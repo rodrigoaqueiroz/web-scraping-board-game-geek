{
 "cells": [
  {
   "cell_type": "code",
   "execution_count": 55,
   "id": "893c27a0",
   "metadata": {},
   "outputs": [],
   "source": [
    "import pandas as pd\n",
    "import seaborn as sns\n",
    "import matplotlib.pyplot as plt\n",
    "\n",
    "\n"
   ]
  },
  {
   "cell_type": "code",
   "execution_count": 61,
   "id": "419da3bf",
   "metadata": {
    "scrolled": true
   },
   "outputs": [
    {
     "data": {
      "text/html": [
       "<div>\n",
       "<style scoped>\n",
       "    .dataframe tbody tr th:only-of-type {\n",
       "        vertical-align: middle;\n",
       "    }\n",
       "\n",
       "    .dataframe tbody tr th {\n",
       "        vertical-align: top;\n",
       "    }\n",
       "\n",
       "    .dataframe thead th {\n",
       "        text-align: right;\n",
       "    }\n",
       "</style>\n",
       "<table border=\"1\" class=\"dataframe\">\n",
       "  <thead>\n",
       "    <tr style=\"text-align: right;\">\n",
       "      <th></th>\n",
       "      <th>id</th>\n",
       "      <th>bg_name</th>\n",
       "      <th>year</th>\n",
       "      <th>popularity</th>\n",
       "      <th>best_for</th>\n",
       "      <th>weigth</th>\n",
       "    </tr>\n",
       "  </thead>\n",
       "  <tbody>\n",
       "    <tr>\n",
       "      <th>0</th>\n",
       "      <td>1</td>\n",
       "      <td>Gloomhaven</td>\n",
       "      <td>2017</td>\n",
       "      <td>49841</td>\n",
       "      <td>3.0</td>\n",
       "      <td>3.87</td>\n",
       "    </tr>\n",
       "    <tr>\n",
       "      <th>1</th>\n",
       "      <td>2</td>\n",
       "      <td>Pandemic Legacy: Season 1</td>\n",
       "      <td>2015</td>\n",
       "      <td>46275</td>\n",
       "      <td>4.0</td>\n",
       "      <td>2.83</td>\n",
       "    </tr>\n",
       "    <tr>\n",
       "      <th>2</th>\n",
       "      <td>3</td>\n",
       "      <td>Brass: Birmingham</td>\n",
       "      <td>2018</td>\n",
       "      <td>27744</td>\n",
       "      <td>4.0</td>\n",
       "      <td>3.90</td>\n",
       "    </tr>\n",
       "    <tr>\n",
       "      <th>3</th>\n",
       "      <td>4</td>\n",
       "      <td>Terraforming Mars</td>\n",
       "      <td>2016</td>\n",
       "      <td>77724</td>\n",
       "      <td>3.0</td>\n",
       "      <td>3.25</td>\n",
       "    </tr>\n",
       "    <tr>\n",
       "      <th>4</th>\n",
       "      <td>5</td>\n",
       "      <td>Gloomhaven: Jaws of the Lion</td>\n",
       "      <td>2020</td>\n",
       "      <td>18970</td>\n",
       "      <td>2.0</td>\n",
       "      <td>3.59</td>\n",
       "    </tr>\n",
       "  </tbody>\n",
       "</table>\n",
       "</div>"
      ],
      "text/plain": [
       "   id                       bg_name  year  popularity  best_for  weigth\n",
       "0   1                    Gloomhaven  2017       49841       3.0    3.87\n",
       "1   2     Pandemic Legacy: Season 1  2015       46275       4.0    2.83\n",
       "2   3             Brass: Birmingham  2018       27744       4.0    3.90\n",
       "3   4             Terraforming Mars  2016       77724       3.0    3.25\n",
       "4   5  Gloomhaven: Jaws of the Lion  2020       18970       2.0    3.59"
      ]
     },
     "execution_count": 61,
     "metadata": {},
     "output_type": "execute_result"
    }
   ],
   "source": [
    "df = pd.read_csv('../boardgames.csv')\n",
    "df.drop(df.loc[df['best_for'] == 0].index, inplace=True)\n",
    "df.head()"
   ]
  },
  {
   "cell_type": "code",
   "execution_count": 57,
   "id": "7168ce05",
   "metadata": {},
   "outputs": [
    {
     "data": {
      "text/plain": [
       "<AxesSubplot:xlabel='best_for'>"
      ]
     },
     "execution_count": 57,
     "metadata": {},
     "output_type": "execute_result"
    },
    {
     "data": {
      "image/png": "[encoded data removed]",
      "text/plain": [
       "<Figure size 432x288 with 1 Axes>"
      ]
     },
     "metadata": {
      "needs_background": "light"
     },
     "output_type": "display_data"
    }
   ],
   "source": [
    "df.groupby(['best_for']).best_for.count().sort_values().plot(kind='bar')"
   ]
  },
  {
   "cell_type": "code",
   "execution_count": 58,
   "id": "8951272f",
   "metadata": {
    "scrolled": true
   },
   "outputs": [
    {
     "data": {
      "text/plain": [
       "0       3.0\n",
       "1       4.0\n",
       "2       4.0\n",
       "3       3.0\n",
       "4       2.0\n",
       "       ... \n",
       "1095    3.0\n",
       "1096    4.0\n",
       "1097    4.0\n",
       "1098    5.0\n",
       "1099    2.0\n",
       "Name: best_for, Length: 1073, dtype: float64"
      ]
     },
     "execution_count": 58,
     "metadata": {},
     "output_type": "execute_result"
    }
   ],
   "source": [
    "labels = df['best_for']\n",
    "labels"
   ]
  },
  {
   "cell_type": "markdown",
   "id": "b7e02260",
   "metadata": {},
   "source": [
    "### get most popular bg"
   ]
  },
  {
   "cell_type": "code",
   "execution_count": 59,
   "id": "6d056639",
   "metadata": {},
   "outputs": [
    {
     "data": {
      "text/html": [
       "<div>\n",
       "<style scoped>\n",
       "    .dataframe tbody tr th:only-of-type {\n",
       "        vertical-align: middle;\n",
       "    }\n",
       "\n",
       "    .dataframe tbody tr th {\n",
       "        vertical-align: top;\n",
       "    }\n",
       "\n",
       "    .dataframe thead th {\n",
       "        text-align: right;\n",
       "    }\n",
       "</style>\n",
       "<table border=\"1\" class=\"dataframe\">\n",
       "  <thead>\n",
       "    <tr style=\"text-align: right;\">\n",
       "      <th></th>\n",
       "      <th>id</th>\n",
       "      <th>bg_name</th>\n",
       "      <th>year</th>\n",
       "      <th>popularity</th>\n",
       "      <th>best_for</th>\n",
       "      <th>weigth</th>\n",
       "    </tr>\n",
       "  </thead>\n",
       "  <tbody>\n",
       "    <tr>\n",
       "      <th>116</th>\n",
       "      <td>117</td>\n",
       "      <td>Pandemic</td>\n",
       "      <td>2008</td>\n",
       "      <td>111442</td>\n",
       "      <td>4.0</td>\n",
       "      <td>2.41</td>\n",
       "    </tr>\n",
       "  </tbody>\n",
       "</table>\n",
       "</div>"
      ],
      "text/plain": [
       "      id   bg_name  year  popularity  best_for  weigth\n",
       "116  117  Pandemic  2008      111442       4.0    2.41"
      ]
     },
     "execution_count": 59,
     "metadata": {},
     "output_type": "execute_result"
    }
   ],
   "source": [
    "df.loc[df['popularity'] == df['popularity'].max()]"
   ]
  },
  {
   "cell_type": "markdown",
   "id": "f16bb282",
   "metadata": {},
   "source": [
    "### get less popular bg\n"
   ]
  },
  {
   "cell_type": "code",
   "execution_count": 42,
   "id": "0e6f5dce",
   "metadata": {},
   "outputs": [
    {
     "data": {
      "text/html": [
       "<div>\n",
       "<style scoped>\n",
       "    .dataframe tbody tr th:only-of-type {\n",
       "        vertical-align: middle;\n",
       "    }\n",
       "\n",
       "    .dataframe tbody tr th {\n",
       "        vertical-align: top;\n",
       "    }\n",
       "\n",
       "    .dataframe thead th {\n",
       "        text-align: right;\n",
       "    }\n",
       "</style>\n",
       "<table border=\"1\" class=\"dataframe\">\n",
       "  <thead>\n",
       "    <tr style=\"text-align: right;\">\n",
       "      <th></th>\n",
       "      <th>id</th>\n",
       "      <th>bg_name</th>\n",
       "      <th>year</th>\n",
       "      <th>popularity</th>\n",
       "      <th>best_for</th>\n",
       "      <th>weigth</th>\n",
       "    </tr>\n",
       "  </thead>\n",
       "  <tbody>\n",
       "    <tr>\n",
       "      <th>987</th>\n",
       "      <td>988</td>\n",
       "      <td>Dominant Species: Marine</td>\n",
       "      <td>2021</td>\n",
       "      <td>1163</td>\n",
       "      <td>4.0</td>\n",
       "      <td>3.89</td>\n",
       "    </tr>\n",
       "  </tbody>\n",
       "</table>\n",
       "</div>"
      ],
      "text/plain": [
       "      id                   bg_name  year  popularity  best_for  weigth\n",
       "987  988  Dominant Species: Marine  2021        1163       4.0    3.89"
      ]
     },
     "execution_count": 42,
     "metadata": {},
     "output_type": "execute_result"
    }
   ],
   "source": [
    "df.loc[df['popularity'] == df['popularity'].min()]"
   ]
  },
  {
   "cell_type": "markdown",
   "id": "a094280c",
   "metadata": {},
   "source": [
    "### get most heavier bg"
   ]
  },
  {
   "cell_type": "code",
   "execution_count": 39,
   "id": "20a79a5f",
   "metadata": {
    "scrolled": true
   },
   "outputs": [
    {
     "data": {
      "text/html": [
       "<div>\n",
       "<style scoped>\n",
       "    .dataframe tbody tr th:only-of-type {\n",
       "        vertical-align: middle;\n",
       "    }\n",
       "\n",
       "    .dataframe tbody tr th {\n",
       "        vertical-align: top;\n",
       "    }\n",
       "\n",
       "    .dataframe thead th {\n",
       "        text-align: right;\n",
       "    }\n",
       "</style>\n",
       "<table border=\"1\" class=\"dataframe\">\n",
       "  <thead>\n",
       "    <tr style=\"text-align: right;\">\n",
       "      <th></th>\n",
       "      <th>id</th>\n",
       "      <th>bg_name</th>\n",
       "      <th>year</th>\n",
       "      <th>popularity</th>\n",
       "      <th>best_for</th>\n",
       "      <th>weigth</th>\n",
       "    </tr>\n",
       "  </thead>\n",
       "  <tbody>\n",
       "    <tr>\n",
       "      <th>369</th>\n",
       "      <td>370</td>\n",
       "      <td>Advanced Squad Leader</td>\n",
       "      <td>1985</td>\n",
       "      <td>3633</td>\n",
       "      <td>2.0</td>\n",
       "      <td>4.74</td>\n",
       "    </tr>\n",
       "  </tbody>\n",
       "</table>\n",
       "</div>"
      ],
      "text/plain": [
       "      id                bg_name  year  popularity  best_for  weigth\n",
       "369  370  Advanced Squad Leader  1985        3633       2.0    4.74"
      ]
     },
     "execution_count": 39,
     "metadata": {},
     "output_type": "execute_result"
    }
   ],
   "source": [
    "df.loc[df['weigth'] == df['weigth'].max()]"
   ]
  },
  {
   "cell_type": "markdown",
   "id": "2a9a198e",
   "metadata": {},
   "source": [
    "### get lighter bg\n"
   ]
  },
  {
   "cell_type": "code",
   "execution_count": 44,
   "id": "3d11cda5",
   "metadata": {},
   "outputs": [
    {
     "data": {
      "text/html": [
       "<div>\n",
       "<style scoped>\n",
       "    .dataframe tbody tr th:only-of-type {\n",
       "        vertical-align: middle;\n",
       "    }\n",
       "\n",
       "    .dataframe tbody tr th {\n",
       "        vertical-align: top;\n",
       "    }\n",
       "\n",
       "    .dataframe thead th {\n",
       "        text-align: right;\n",
       "    }\n",
       "</style>\n",
       "<table border=\"1\" class=\"dataframe\">\n",
       "  <thead>\n",
       "    <tr style=\"text-align: right;\">\n",
       "      <th></th>\n",
       "      <th>id</th>\n",
       "      <th>bg_name</th>\n",
       "      <th>year</th>\n",
       "      <th>popularity</th>\n",
       "      <th>best_for</th>\n",
       "      <th>weigth</th>\n",
       "    </tr>\n",
       "  </thead>\n",
       "  <tbody>\n",
       "    <tr>\n",
       "      <th>791</th>\n",
       "      <td>792</td>\n",
       "      <td>Rhino Hero</td>\n",
       "      <td>2011</td>\n",
       "      <td>9481</td>\n",
       "      <td>3.0</td>\n",
       "      <td>1.02</td>\n",
       "    </tr>\n",
       "  </tbody>\n",
       "</table>\n",
       "</div>"
      ],
      "text/plain": [
       "      id     bg_name  year  popularity  best_for  weigth\n",
       "791  792  Rhino Hero  2011        9481       3.0    1.02"
      ]
     },
     "execution_count": 44,
     "metadata": {},
     "output_type": "execute_result"
    }
   ],
   "source": [
    "df.loc[df['weigth'] == df['weigth'].min()]"
   ]
  }
 ],
 "metadata": {
  "kernelspec": {
   "display_name": "Python 3.9.7 ('myenv')",
   "language": "python",
   "name": "python397jvsc74a57bd0c7df8d4a72803bfb62e3702367aa83679e3bac1c45e6460a577267f8a4801c62"
  },
  "language_info": {
   "codemirror_mode": {
    "name": "ipython",
    "version": 3
   },
   "file_extension": ".py",
   "mimetype": "text/x-python",
   "name": "python",
   "nbconvert_exporter": "python",
   "pygments_lexer": "ipython3",
   "version": "3.9.7"
  }
 },
 "nbformat": 4,
 "nbformat_minor": 5
}
